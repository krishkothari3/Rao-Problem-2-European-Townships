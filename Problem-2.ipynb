{
 "cells": [
  {
   "cell_type": "code",
   "execution_count": 95,
   "id": "aa3f321e",
   "metadata": {},
   "outputs": [
    {
     "name": "stdout",
     "output_type": "stream",
     "text": [
      "1 7005.0 1167.5 3502.5\n",
      "2 10731.0 1788.5 5365.5\n",
      "3 4584.0 764.0 2292.0\n",
      "4 27021.0 4503.5 13510.5\n",
      "5 7380.0 1230.0 3690.0\n",
      "6 8142.0 1357.0 4071.0\n",
      "7 7704.0 1284.0 3852.0\n",
      "8 9081.0 1513.5 4540.5\n",
      "9 9159.0 1526.5 4579.5\n",
      "10 10707.0 1784.5 5353.5\n",
      "11 11706.0 1951.0 5853.0\n",
      "12 11763.0 1960.5 5881.5\n",
      "13 12315.0 2052.5 6157.5\n",
      "14 13491.0 2248.5 6745.5\n",
      "15 10335.0 1722.5 5167.5\n",
      "16 11202.0 1867.0 5601.0\n"
     ]
    }
   ],
   "source": [
    "def calculateOutput(R,S,H):\n",
    "    totalWalls = (R*3)+(S*4)+(H*6)\n",
    "    totalHours = ((totalWalls/3)*2.5) + (((totalWalls*2)/3)*3.25)\n",
    "    accentQua = (totalWalls/3)*1.5\n",
    "    regularQua = (((totalWalls*2)/3)*2.25)\n",
    "    return totalHours,accentQua,regularQua\n",
    "smallInput = open(\"ET_small.txt\",\"r\").readlines()\n",
    "smallInput = [s.rstrip(\"\\n\") for s in smallInput]\n",
    "smallOutput = open(\"SmallOutput.txt\",\"a\")\n",
    "smallInput.pop(0)\n",
    "case = 1\n",
    "index = 0\n",
    "outputHours = 0\n",
    "outputAccentQua = 0\n",
    "outputRegularQua = 0\n",
    "for i in smallInput:\n",
    "    if len(i) <= 3:\n",
    "        index += 1\n",
    "        for j in range(int(i)):\n",
    "            temp = smallInput[index].split(\",\")\n",
    "            outputHours += calculateOutput(int(temp[1]),int(temp[2]),int(temp[3]))[0]\n",
    "            outputAccentQua += calculateOutput(int(temp[1]),int(temp[2]),int(temp[3]))[1]\n",
    "            outputRegularQua += calculateOutput(int(temp[1]),int(temp[2]),int(temp[3]))[2]\n",
    "            index += 1\n",
    "        smallOutput.write(\"Case #\"+str(case)+\": \"+str(outputHours)+\", \"+str(outputAccentQua)+\", \"+str(outputRegularQua)+\"\\n\")\n",
    "        print(case,outputHours,outputAccentQua,outputRegularQua)\n",
    "        case += 1\n",
    "        outputHours=0\n",
    "        outputAccentQua = 0\n",
    "        outputRegularQua = 0\n",
    "smallOutput.close()"
   ]
  },
  {
   "cell_type": "code",
   "execution_count": 96,
   "id": "c0f1292e",
   "metadata": {},
   "outputs": [
    {
     "name": "stdout",
     "output_type": "stream",
     "text": [
      "1 48852.0 8142.0 24426.0\n",
      "2 59073.0 9845.5 29536.5\n",
      "3 49239.0 8206.5 24619.5\n",
      "4 50856.0 8476.0 25428.0\n",
      "5 81870.0 13645.0 40935.0\n",
      "6 70077.0 11679.5 35038.5\n",
      "7 174579.0 29096.5 87289.5\n",
      "8 11163.0 1860.5 5581.5\n",
      "9 258636.0 43106.0 129318.0\n",
      "10 262911.0 43818.5 131455.5\n",
      "11 403467.0 67244.5 201733.5\n",
      "12 55449.0 9241.5 27724.5\n",
      "13 204042.0 34007.0 102021.0\n",
      "14 189432.0 31572.0 94716.0\n",
      "15 179013.0 29835.5 89506.5\n",
      "16 105591.0 17598.5 52795.5\n",
      "17 119814.0 19969.0 59907.0\n",
      "18 146973.0 24495.5 73486.5\n",
      "19 137985.0 22997.5 68992.5\n",
      "20 191676.0 31946.0 95838.0\n",
      "21 397446.0 66241.0 198723.0\n",
      "22 239631.0 39938.5 119815.5\n",
      "23 246636.0 41106.0 123318.0\n",
      "24 246822.0 41137.0 123411.0\n",
      "25 178668.0 29778.0 89334.0\n"
     ]
    }
   ],
   "source": [
    "largeInput = open(\"ET_large.txt\",\"r\").readlines()\n",
    "largeInput = [s.rstrip(\"\\n\") for s in largeInput]\n",
    "largeOutput = open(\"LargeOutput.txt\",\"a\")\n",
    "largeInput.pop(0)\n",
    "case = 1\n",
    "index = 0\n",
    "outputHours = 0\n",
    "outputAccentQua = 0\n",
    "outputRegularQua = 0\n",
    "for i in largeInput:\n",
    "    if len(i) <= 3:\n",
    "        index += 1\n",
    "        for j in range(int(i)):\n",
    "            temp = largeInput[index].split(\",\")\n",
    "            outputHours += calculateOutput(int(temp[1]),int(temp[2]),int(temp[3]))[0]\n",
    "            outputAccentQua += calculateOutput(int(temp[1]),int(temp[2]),int(temp[3]))[1]\n",
    "            outputRegularQua += calculateOutput(int(temp[1]),int(temp[2]),int(temp[3]))[2]\n",
    "            index += 1\n",
    "        largeOutput.write(\"Case #\"+str(case)+\": \"+str(outputHours)+\", \"+str(outputAccentQua)+\", \"+str(outputRegularQua)+\"\\n\")\n",
    "        print(case,outputHours,outputAccentQua,outputRegularQua)\n",
    "        case += 1\n",
    "        outputHours=0\n",
    "        outputAccentQua = 0\n",
    "        outputRegularQua = 0\n",
    "largeOutput.close()"
   ]
  },
  {
   "cell_type": "code",
   "execution_count": null,
   "id": "368f0e9b",
   "metadata": {},
   "outputs": [],
   "source": []
  }
 ],
 "metadata": {
  "kernelspec": {
   "display_name": "Python 3 (ipykernel)",
   "language": "python",
   "name": "python3"
  },
  "language_info": {
   "codemirror_mode": {
    "name": "ipython",
    "version": 3
   },
   "file_extension": ".py",
   "mimetype": "text/x-python",
   "name": "python",
   "nbconvert_exporter": "python",
   "pygments_lexer": "ipython3",
   "version": "3.9.13"
  }
 },
 "nbformat": 4,
 "nbformat_minor": 5
}
